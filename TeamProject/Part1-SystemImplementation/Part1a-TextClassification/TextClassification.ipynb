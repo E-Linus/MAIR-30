{
 "cells": [
  {
   "cell_type": "code",
   "execution_count": 1,
   "metadata": {
    "collapsed": true
   },
   "outputs": [],
   "source": [
    "import pandas as pd\n",
    "import numpy as np\n",
    "import sklearn\n",
    "from sklearn.model_selection import train_test_split\n",
    "from sklearn.feature_extraction.text import CountVectorizer\n",
    "from sklearn.tree import DecisionTreeClassifier\n",
    "from sklearn.linear_model import LogisticRegression\n",
    "from sklearn.metrics import accuracy_score\n",
    "import tensorflow as tf\n",
    "import keras"
   ]
  },
  {
   "cell_type": "code",
   "execution_count": 2,
   "outputs": [],
   "source": [
    "#load data\n",
    "df = pd.read_csv('dialog_acts.dat',sep=',',names=['data'])\n",
    "df[['data']] = df['data'].apply(lambda x: pd.Series(x.lower()))\n",
    "df[['label','utterance']] = df['data'].apply(lambda x: pd.Series(x.split(' ', 1)))"
   ],
   "metadata": {
    "collapsed": false
   }
  },
  {
   "cell_type": "code",
   "execution_count": 3,
   "outputs": [
    {
     "name": "stdout",
     "output_type": "stream",
     "text": [
      "25501\n"
     ]
    },
    {
     "data": {
      "text/plain": "5359"
     },
     "execution_count": 3,
     "metadata": {},
     "output_type": "execute_result"
    }
   ],
   "source": [
    "#save labeles and utterances\n",
    "y = df['label']\n",
    "x = df['utterance']\n",
    "print(len(y))\n",
    "#remove duplicates\n",
    "df = df.drop_duplicates(subset=['label','utterance'])\n",
    "#save cleaned data\n",
    "y_clean = df['label']\n",
    "x_clean = df['utterance']\n",
    "\n",
    "len(y_clean)"
   ],
   "metadata": {
    "collapsed": false
   }
  },
  {
   "cell_type": "code",
   "execution_count": 4,
   "outputs": [],
   "source": [
    "#split data into train and test\n",
    "x_train,x_test,y_train,y_test = train_test_split(x,y,test_size=0.15,random_state=10)\n",
    "x_clean_train,x_clean_test,y_clean_train,y_clean_test = train_test_split(x_clean,y_clean,test_size=0.15,random_state=10)"
   ],
   "metadata": {
    "collapsed": false
   }
  },
  {
   "cell_type": "code",
   "execution_count": 5,
   "outputs": [],
   "source": [
    "#define first baseline prediction methode\n",
    "def majority_baseline(utterance):\n",
    "    return 'inform'\n"
   ],
   "metadata": {
    "collapsed": false
   }
  },
  {
   "cell_type": "code",
   "execution_count": 6,
   "outputs": [],
   "source": [
    "#define 2nd baseline prediction method(using rules)\n",
    "\n",
    "# The order of the rules plays a big role in the accuracy\n",
    "# I tried to put the class labels first that appear the most times in the dataset. (Hence is makes sense to have inform as first rule)\n",
    "rules = {\n",
    "    # I put thank you first because in the text whenever theres thank you and bye at the same sentence\n",
    "    # it will always be thankyou\n",
    "    'inform': ['any', 'im looking'],\n",
    "    'request': ['phone', 'address', 'postcode', 'post code', 'type of food', 'what', 'whats'],\n",
    "    'thankyou': ['thank you'],\n",
    "    'ack': ['okay','ok'],\n",
    "    'affirm': ['yes', 'right', 'yeah'],\n",
    "    'bye': ['good bye','bye'],\n",
    "    'deny': ['wrong','not', 'dont'],\n",
    "    'hello': ['hello', 'hi'],\n",
    "    'negate': ['no'],\n",
    "    'repeat': ['repeat', 'again', 'back'],\n",
    "    'reqalts': ['is there', 'how about', 'anything else', 'what about'],\n",
    "    'confirm': ['is it', 'does it'],\n",
    "    'reqmore': ['more'],\n",
    "    'restart': ['reset', 'start over', 'start again'],\n",
    "    'null': ['cough', 'unintelligible', 'tv_noise', 'noise', 'sil', 'none']\n",
    "}\n",
    "\n",
    "def rules_baseline(utterance):\n",
    "\n",
    "    for potential_class in rules.keys():\n",
    "        for key_word in rules[potential_class]:\n",
    "            if key_word in utterance:\n",
    "                return potential_class\n",
    "    return 'inform'"
   ],
   "metadata": {
    "collapsed": false
   }
  },
  {
   "cell_type": "code",
   "execution_count": 7,
   "outputs": [],
   "source": [
    "#calc bags of words\n",
    "vectorizer = CountVectorizer()\n",
    "vectorizer = vectorizer.fit(x)\n",
    "x_train_bow = vectorizer.transform(x_train)\n",
    "x_test_bow = vectorizer.transform(x_test)\n",
    "\n",
    "x_train_clean_bow = vectorizer.transform(x_clean_train)\n",
    "x_test_clean_bow = vectorizer.transform(x_clean_test)\n"
   ],
   "metadata": {
    "collapsed": false
   }
  },
  {
   "cell_type": "code",
   "execution_count": 41,
   "outputs": [
    {
     "name": "stdout",
     "output_type": "stream",
     "text": [
      "Accuracy DTC with duplicates:  0.9775222164140094\n",
      "Accuracy DTC without duplicates: 0.8880597014925373\n"
     ]
    }
   ],
   "source": [
    "\n",
    "\n",
    "#define prediction method for Decision Trees\n",
    "clf = DecisionTreeClassifier()\n",
    "clf.fit(x_train_bow,y_train)\n",
    "\n",
    "y_pred = clf.predict(x_test_bow)\n",
    "print('Accuracy DTC with duplicates: ',accuracy_score(y_test, y_pred))\n",
    "\n",
    "clf_clean = DecisionTreeClassifier()\n",
    "clf_clean.fit(x_train_clean_bow,y_clean_train)\n",
    "y_pred = clf_clean.predict(x_test_clean_bow)\n",
    "print('Accuracy DTC without duplicates: ' + str(accuracy_score(y_clean_test, y_pred)))\n",
    "\n",
    "\n",
    "def tree_prediction(utterance):\n",
    "    bow = vectorizer.transform(utterance)\n",
    "    return clf.predict(bow)\n",
    "\n",
    "def tree_clean_prediction(utterance):\n",
    "    bow = vectorizer.transform(utterance)\n",
    "    return clf_clean.predict(bow)"
   ],
   "metadata": {
    "collapsed": false
   }
  },
  {
   "cell_type": "code",
   "execution_count": 9,
   "outputs": [
    {
     "name": "stderr",
     "output_type": "stream",
     "text": [
      "C:\\Users\\linus\\anaconda3\\envs\\MairC\\lib\\site-packages\\sklearn\\linear_model\\_logistic.py:458: ConvergenceWarning: lbfgs failed to converge (status=1):\n",
      "STOP: TOTAL NO. of ITERATIONS REACHED LIMIT.\n",
      "\n",
      "Increase the number of iterations (max_iter) or scale the data as shown in:\n",
      "    https://scikit-learn.org/stable/modules/preprocessing.html\n",
      "Please also refer to the documentation for alternative solver options:\n",
      "    https://scikit-learn.org/stable/modules/linear_model.html#logistic-regression\n",
      "  n_iter_i = _check_optimize_result(\n"
     ]
    },
    {
     "name": "stdout",
     "output_type": "stream",
     "text": [
      "Accuracy LR with duplicates:  0.9756926293779404\n",
      "Accuracy LR without duplicates: 0.8967661691542289\n"
     ]
    }
   ],
   "source": [
    "#define prediction method for Logistic Regression\n",
    "log_reg = LogisticRegression()\n",
    "log_reg.fit(x_train_bow,y_train)\n",
    "\n",
    "y_pred = log_reg.predict(x_test_bow)\n",
    "print('Accuracy LR with duplicates: ',accuracy_score(y_test, y_pred))\n",
    "\n",
    "log_reg_clean = LogisticRegression()\n",
    "log_reg_clean.fit(x_train_clean_bow,y_clean_train)\n",
    "y_pred = log_reg_clean.predict(x_test_clean_bow)\n",
    "print('Accuracy LR without duplicates: ' + str(accuracy_score(y_clean_test, y_pred)))\n",
    "\n",
    "\n",
    "def lr_prediction(utterance):\n",
    "    bow = vectorizer.transform(utterance)\n",
    "    return log_reg.predict(bow)\n",
    "\n",
    "def lr_clean_prediction(utterance):\n",
    "    bow = vectorizer.transform(utterance)\n",
    "    return log_reg_clean.predict(bow)"
   ],
   "metadata": {
    "collapsed": false
   }
  },
  {
   "cell_type": "code",
   "execution_count": 36,
   "outputs": [
    {
     "name": "stdout",
     "output_type": "stream",
     "text": [
      "Accuracy Majority Baseline Model 0.4012023000522739\n",
      "Accuracy rule-based Baseline Model 0.8092002090956613\n"
     ]
    }
   ],
   "source": [
    "pred_correctly = [x for x in y_test if x == 'inform']\n",
    "print('Accuracy Majority Baseline Model', len(pred_correctly)/len(y_test))\n",
    "\n",
    "counter_correct = 0\n",
    "\n",
    "for index in x_test.index:\n",
    "    if rules_baseline(x_test[index]) == y_test[index]:\n",
    "        counter_correct += 1\n",
    "print('Accuracy rule-based Baseline Model', counter_correct/len(y_test))"
   ],
   "metadata": {
    "collapsed": false
   }
  },
  {
   "cell_type": "code",
   "execution_count": 49,
   "outputs": [
    {
     "data": {
      "text/plain": "5359"
     },
     "execution_count": 49,
     "metadata": {},
     "output_type": "execute_result"
    }
   ],
   "source": [],
   "metadata": {
    "collapsed": false
   }
  },
  {
   "cell_type": "code",
   "execution_count": 32,
   "outputs": [
    {
     "name": "stdout",
     "output_type": "stream",
     "text": [
      "18162\n"
     ]
    }
   ],
   "source": [
    "for x in x_test.index:\n",
    "    print(x)\n",
    "    break"
   ],
   "metadata": {
    "collapsed": false
   }
  },
  {
   "cell_type": "code",
   "execution_count": 35,
   "outputs": [
    {
     "data": {
      "text/plain": "'affirm'"
     },
     "execution_count": 35,
     "metadata": {},
     "output_type": "execute_result"
    }
   ],
   "source": [
    "y_test[18162]"
   ],
   "metadata": {
    "collapsed": false
   }
  },
  {
   "cell_type": "code",
   "execution_count": 43,
   "outputs": [
    {
     "data": {
      "text/plain": "'hello'"
     },
     "execution_count": 43,
     "metadata": {},
     "output_type": "execute_result"
    }
   ],
   "source": [
    "tree_prediction(['hi'])[0]"
   ],
   "metadata": {
    "collapsed": false
   }
  },
  {
   "cell_type": "code",
   "execution_count": null,
   "outputs": [],
   "source": [],
   "metadata": {
    "collapsed": false
   }
  }
 ],
 "metadata": {
  "kernelspec": {
   "display_name": "Python 3",
   "language": "python",
   "name": "python3"
  },
  "language_info": {
   "codemirror_mode": {
    "name": "ipython",
    "version": 2
   },
   "file_extension": ".py",
   "mimetype": "text/x-python",
   "name": "python",
   "nbconvert_exporter": "python",
   "pygments_lexer": "ipython2",
   "version": "2.7.6"
  }
 },
 "nbformat": 4,
 "nbformat_minor": 0
}
