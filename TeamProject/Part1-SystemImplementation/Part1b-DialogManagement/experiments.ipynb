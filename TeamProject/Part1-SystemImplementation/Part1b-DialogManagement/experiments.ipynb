{
 "cells": [
  {
   "cell_type": "code",
   "execution_count": 12,
   "metadata": {
    "collapsed": true
   },
   "outputs": [
    {
     "data": {
      "text/plain": "109"
     },
     "execution_count": 12,
     "metadata": {},
     "output_type": "execute_result"
    }
   ],
   "source": [
    "import pandas as pd\n",
    "df = pd.read_csv('restaurant_info.csv', sep=',')\n",
    "len(df)"
   ]
  },
  {
   "cell_type": "code",
   "execution_count": 6,
   "outputs": [
    {
     "data": {
      "text/plain": "                    restaurantname pricerange    area             food  \\\n0           saint johns chop house   moderate    west          british   \n1             restaurant alimentum   moderate   north  modern european   \n2          pizza hut cherry hinton   moderate   south          italian   \n3                     the gardenia   moderate    west         romanian   \n4                        loch fyne   moderate  centre          seafood   \n12                        rajmahal   moderate    east           indian   \n13            pizza hut fen ditton   moderate    east          italian   \n22                           cotto   moderate  centre          british   \n25   the cow pizza kitchen and bar   moderate  centre         moroccan   \n29                      golden wok   moderate   north   asian oriental   \n30                          meghna   moderate   north           indian   \n31                      the nirala   moderate   north           indian   \n33                 efes restaurant   moderate  centre            swiss   \n46                          prezzo   moderate    west          italian   \n47                        galleria   moderate  centre         european   \n48           bloomsbury restaurant   moderate   north    international   \n50          the varsity restaurant   moderate  centre    international   \n51          de luca cucina and bar   moderate  centre  modern european   \n58                 tandoori palace   moderate   north           indian   \n59               yippee noodle bar   moderate  centre   asian oriental   \n62      shanghai family restaurant   moderate    east          chinese   \n70                  lan hong house   moderate  centre             thai   \n71                        la tasca   moderate  centre          spanish   \n75            restaurant one seven   moderate   north          british   \n77                        anatolia   moderate  centre          turkish   \n78                     clowns cafe   moderate  centre           bistro   \n85                     curry queen   moderate     NaN           indian   \n87                  the oak bistro   moderate  centre          british   \n88             riverside brasserie   moderate  centre        gastropub   \n89               the copper kettle   moderate    east          british   \n93                        ali baba   moderate  centre         lebanese   \n96         hotel du vin and bistro   moderate  centre         european   \n99              jinling noodle bar   moderate  centre            cuban   \n100                       graffiti   moderate   north           indian   \n106       pizza express fen ditton   moderate  centre         european   \n107      sesame restaurant and bar   moderate     NaN          turkish   \n\n             phone                                               addr postcode  \n0     01223 353110                         21 - 24 northampton street    c.b 3  \n1     01223 413000                               152 - 154 hills road    c.b 2  \n2     01223 323737  g4 cambridge leisure park clifton way cherry h...    c.b 1  \n3     01223 356354                        2 rose crescent city centre    c.b 2  \n4     01223 362433              the little rose 37 trumpington street    c.b 2  \n12    01223 244955                         7 barnwell road fen ditton    c.b 5  \n13    01223 323737    cambridge retail park newmarket road fen ditton    c.b 5  \n22    01223 302010                          183 east road city centre    c.b 1  \n25    01223 308871                               corn exchange street    c.b 2  \n29    01223 350688                         191 histon road chesterton    c.b 4  \n30    01223 727410                       205 victoria road chesterton    c.b 4  \n31    01223 360966                           7 milton road chesterton    c.b 4  \n33    01223 500005                            king street city centre    c.b 1  \n46    01799 521260                           21 - 24 northampton road    c.b 3  \n47    01223 362054                                   33 bridge street    c.b 2  \n48   0871 942 9180               crowne plaza hotel 20 downing street    c.b 2  \n50    01223 356060                35 saint andrews street city centre    c.b 2  \n51    01223 356666                                   83 regent street    c.b 2  \n58    01223 506055                          68 histon road chesterton    c.b 4  \n59    01223 518111                      40428 king street city centre    c.b 1  \n62    01223 301761                     39 burleigh street city centre      NaN  \n70    01223 350420                      12 norfolk street city centre      NaN  \n71    01223 464630                               14 -16 bridge street    c.b 2  \n75    01223 337766  de vere university arms regent street city centre      NaN  \n77    01223 362372                       30 bridge street city centre    c.b 2  \n78    01223 355711                                                NaN    c.b 1  \n85             NaN                          106 mill road city centre    c.b 1  \n87    01223 323361                                   6 lensfield road      NaN  \n88    01223 259988  doubletree by hilton cambridge granta place mi...      NaN  \n89    01223 365068                         4 kings parade city centre    c.b 2  \n93    01462 432565                          59 hills road city centre    c.b 2  \n96    01223 227330                         15 - 19 trumpington street    c.b 2  \n99    01223 566188                           11 peas hill city centre    c.b 2  \n100   01223 277977        hotel felix whitehouse lane huntingdon road    c.b 3  \n106            NaN                              jesus lane fen ditton      NaN  \n107            NaN                                                NaN      NaN  ",
      "text/html": "<div>\n<style scoped>\n    .dataframe tbody tr th:only-of-type {\n        vertical-align: middle;\n    }\n\n    .dataframe tbody tr th {\n        vertical-align: top;\n    }\n\n    .dataframe thead th {\n        text-align: right;\n    }\n</style>\n<table border=\"1\" class=\"dataframe\">\n  <thead>\n    <tr style=\"text-align: right;\">\n      <th></th>\n      <th>restaurantname</th>\n      <th>pricerange</th>\n      <th>area</th>\n      <th>food</th>\n      <th>phone</th>\n      <th>addr</th>\n      <th>postcode</th>\n    </tr>\n  </thead>\n  <tbody>\n    <tr>\n      <th>0</th>\n      <td>saint johns chop house</td>\n      <td>moderate</td>\n      <td>west</td>\n      <td>british</td>\n      <td>01223 353110</td>\n      <td>21 - 24 northampton street</td>\n      <td>c.b 3</td>\n    </tr>\n    <tr>\n      <th>1</th>\n      <td>restaurant alimentum</td>\n      <td>moderate</td>\n      <td>north</td>\n      <td>modern european</td>\n      <td>01223 413000</td>\n      <td>152 - 154 hills road</td>\n      <td>c.b 2</td>\n    </tr>\n    <tr>\n      <th>2</th>\n      <td>pizza hut cherry hinton</td>\n      <td>moderate</td>\n      <td>south</td>\n      <td>italian</td>\n      <td>01223 323737</td>\n      <td>g4 cambridge leisure park clifton way cherry h...</td>\n      <td>c.b 1</td>\n    </tr>\n    <tr>\n      <th>3</th>\n      <td>the gardenia</td>\n      <td>moderate</td>\n      <td>west</td>\n      <td>romanian</td>\n      <td>01223 356354</td>\n      <td>2 rose crescent city centre</td>\n      <td>c.b 2</td>\n    </tr>\n    <tr>\n      <th>4</th>\n      <td>loch fyne</td>\n      <td>moderate</td>\n      <td>centre</td>\n      <td>seafood</td>\n      <td>01223 362433</td>\n      <td>the little rose 37 trumpington street</td>\n      <td>c.b 2</td>\n    </tr>\n    <tr>\n      <th>12</th>\n      <td>rajmahal</td>\n      <td>moderate</td>\n      <td>east</td>\n      <td>indian</td>\n      <td>01223 244955</td>\n      <td>7 barnwell road fen ditton</td>\n      <td>c.b 5</td>\n    </tr>\n    <tr>\n      <th>13</th>\n      <td>pizza hut fen ditton</td>\n      <td>moderate</td>\n      <td>east</td>\n      <td>italian</td>\n      <td>01223 323737</td>\n      <td>cambridge retail park newmarket road fen ditton</td>\n      <td>c.b 5</td>\n    </tr>\n    <tr>\n      <th>22</th>\n      <td>cotto</td>\n      <td>moderate</td>\n      <td>centre</td>\n      <td>british</td>\n      <td>01223 302010</td>\n      <td>183 east road city centre</td>\n      <td>c.b 1</td>\n    </tr>\n    <tr>\n      <th>25</th>\n      <td>the cow pizza kitchen and bar</td>\n      <td>moderate</td>\n      <td>centre</td>\n      <td>moroccan</td>\n      <td>01223 308871</td>\n      <td>corn exchange street</td>\n      <td>c.b 2</td>\n    </tr>\n    <tr>\n      <th>29</th>\n      <td>golden wok</td>\n      <td>moderate</td>\n      <td>north</td>\n      <td>asian oriental</td>\n      <td>01223 350688</td>\n      <td>191 histon road chesterton</td>\n      <td>c.b 4</td>\n    </tr>\n    <tr>\n      <th>30</th>\n      <td>meghna</td>\n      <td>moderate</td>\n      <td>north</td>\n      <td>indian</td>\n      <td>01223 727410</td>\n      <td>205 victoria road chesterton</td>\n      <td>c.b 4</td>\n    </tr>\n    <tr>\n      <th>31</th>\n      <td>the nirala</td>\n      <td>moderate</td>\n      <td>north</td>\n      <td>indian</td>\n      <td>01223 360966</td>\n      <td>7 milton road chesterton</td>\n      <td>c.b 4</td>\n    </tr>\n    <tr>\n      <th>33</th>\n      <td>efes restaurant</td>\n      <td>moderate</td>\n      <td>centre</td>\n      <td>swiss</td>\n      <td>01223 500005</td>\n      <td>king street city centre</td>\n      <td>c.b 1</td>\n    </tr>\n    <tr>\n      <th>46</th>\n      <td>prezzo</td>\n      <td>moderate</td>\n      <td>west</td>\n      <td>italian</td>\n      <td>01799 521260</td>\n      <td>21 - 24 northampton road</td>\n      <td>c.b 3</td>\n    </tr>\n    <tr>\n      <th>47</th>\n      <td>galleria</td>\n      <td>moderate</td>\n      <td>centre</td>\n      <td>european</td>\n      <td>01223 362054</td>\n      <td>33 bridge street</td>\n      <td>c.b 2</td>\n    </tr>\n    <tr>\n      <th>48</th>\n      <td>bloomsbury restaurant</td>\n      <td>moderate</td>\n      <td>north</td>\n      <td>international</td>\n      <td>0871 942 9180</td>\n      <td>crowne plaza hotel 20 downing street</td>\n      <td>c.b 2</td>\n    </tr>\n    <tr>\n      <th>50</th>\n      <td>the varsity restaurant</td>\n      <td>moderate</td>\n      <td>centre</td>\n      <td>international</td>\n      <td>01223 356060</td>\n      <td>35 saint andrews street city centre</td>\n      <td>c.b 2</td>\n    </tr>\n    <tr>\n      <th>51</th>\n      <td>de luca cucina and bar</td>\n      <td>moderate</td>\n      <td>centre</td>\n      <td>modern european</td>\n      <td>01223 356666</td>\n      <td>83 regent street</td>\n      <td>c.b 2</td>\n    </tr>\n    <tr>\n      <th>58</th>\n      <td>tandoori palace</td>\n      <td>moderate</td>\n      <td>north</td>\n      <td>indian</td>\n      <td>01223 506055</td>\n      <td>68 histon road chesterton</td>\n      <td>c.b 4</td>\n    </tr>\n    <tr>\n      <th>59</th>\n      <td>yippee noodle bar</td>\n      <td>moderate</td>\n      <td>centre</td>\n      <td>asian oriental</td>\n      <td>01223 518111</td>\n      <td>40428 king street city centre</td>\n      <td>c.b 1</td>\n    </tr>\n    <tr>\n      <th>62</th>\n      <td>shanghai family restaurant</td>\n      <td>moderate</td>\n      <td>east</td>\n      <td>chinese</td>\n      <td>01223 301761</td>\n      <td>39 burleigh street city centre</td>\n      <td>NaN</td>\n    </tr>\n    <tr>\n      <th>70</th>\n      <td>lan hong house</td>\n      <td>moderate</td>\n      <td>centre</td>\n      <td>thai</td>\n      <td>01223 350420</td>\n      <td>12 norfolk street city centre</td>\n      <td>NaN</td>\n    </tr>\n    <tr>\n      <th>71</th>\n      <td>la tasca</td>\n      <td>moderate</td>\n      <td>centre</td>\n      <td>spanish</td>\n      <td>01223 464630</td>\n      <td>14 -16 bridge street</td>\n      <td>c.b 2</td>\n    </tr>\n    <tr>\n      <th>75</th>\n      <td>restaurant one seven</td>\n      <td>moderate</td>\n      <td>north</td>\n      <td>british</td>\n      <td>01223 337766</td>\n      <td>de vere university arms regent street city centre</td>\n      <td>NaN</td>\n    </tr>\n    <tr>\n      <th>77</th>\n      <td>anatolia</td>\n      <td>moderate</td>\n      <td>centre</td>\n      <td>turkish</td>\n      <td>01223 362372</td>\n      <td>30 bridge street city centre</td>\n      <td>c.b 2</td>\n    </tr>\n    <tr>\n      <th>78</th>\n      <td>clowns cafe</td>\n      <td>moderate</td>\n      <td>centre</td>\n      <td>bistro</td>\n      <td>01223 355711</td>\n      <td>NaN</td>\n      <td>c.b 1</td>\n    </tr>\n    <tr>\n      <th>85</th>\n      <td>curry queen</td>\n      <td>moderate</td>\n      <td>NaN</td>\n      <td>indian</td>\n      <td>NaN</td>\n      <td>106 mill road city centre</td>\n      <td>c.b 1</td>\n    </tr>\n    <tr>\n      <th>87</th>\n      <td>the oak bistro</td>\n      <td>moderate</td>\n      <td>centre</td>\n      <td>british</td>\n      <td>01223 323361</td>\n      <td>6 lensfield road</td>\n      <td>NaN</td>\n    </tr>\n    <tr>\n      <th>88</th>\n      <td>riverside brasserie</td>\n      <td>moderate</td>\n      <td>centre</td>\n      <td>gastropub</td>\n      <td>01223 259988</td>\n      <td>doubletree by hilton cambridge granta place mi...</td>\n      <td>NaN</td>\n    </tr>\n    <tr>\n      <th>89</th>\n      <td>the copper kettle</td>\n      <td>moderate</td>\n      <td>east</td>\n      <td>british</td>\n      <td>01223 365068</td>\n      <td>4 kings parade city centre</td>\n      <td>c.b 2</td>\n    </tr>\n    <tr>\n      <th>93</th>\n      <td>ali baba</td>\n      <td>moderate</td>\n      <td>centre</td>\n      <td>lebanese</td>\n      <td>01462 432565</td>\n      <td>59 hills road city centre</td>\n      <td>c.b 2</td>\n    </tr>\n    <tr>\n      <th>96</th>\n      <td>hotel du vin and bistro</td>\n      <td>moderate</td>\n      <td>centre</td>\n      <td>european</td>\n      <td>01223 227330</td>\n      <td>15 - 19 trumpington street</td>\n      <td>c.b 2</td>\n    </tr>\n    <tr>\n      <th>99</th>\n      <td>jinling noodle bar</td>\n      <td>moderate</td>\n      <td>centre</td>\n      <td>cuban</td>\n      <td>01223 566188</td>\n      <td>11 peas hill city centre</td>\n      <td>c.b 2</td>\n    </tr>\n    <tr>\n      <th>100</th>\n      <td>graffiti</td>\n      <td>moderate</td>\n      <td>north</td>\n      <td>indian</td>\n      <td>01223 277977</td>\n      <td>hotel felix whitehouse lane huntingdon road</td>\n      <td>c.b 3</td>\n    </tr>\n    <tr>\n      <th>106</th>\n      <td>pizza express fen ditton</td>\n      <td>moderate</td>\n      <td>centre</td>\n      <td>european</td>\n      <td>NaN</td>\n      <td>jesus lane fen ditton</td>\n      <td>NaN</td>\n    </tr>\n    <tr>\n      <th>107</th>\n      <td>sesame restaurant and bar</td>\n      <td>moderate</td>\n      <td>NaN</td>\n      <td>turkish</td>\n      <td>NaN</td>\n      <td>NaN</td>\n      <td>NaN</td>\n    </tr>\n  </tbody>\n</table>\n</div>"
     },
     "execution_count": 6,
     "metadata": {},
     "output_type": "execute_result"
    }
   ],
   "source": [
    "df.head()\n",
    "df = df[df['pricerange'] == 'moderate']\n",
    "df"
   ],
   "metadata": {
    "collapsed": false
   }
  },
  {
   "cell_type": "code",
   "execution_count": 5,
   "outputs": [
    {
     "data": {
      "text/plain": "['british',\n 'modern european',\n 'italian',\n 'romanian',\n 'seafood',\n 'chinese',\n 'steakhouse',\n 'asian oriental',\n 'french',\n 'chinese',\n 'portuguese',\n 'chinese',\n 'indian',\n 'italian',\n 'chinese',\n 'spanish',\n 'british',\n 'asian oriental',\n 'european',\n 'vietnamese',\n 'korean',\n 'french',\n 'british',\n 'thai',\n 'italian',\n 'moroccan',\n 'european',\n 'asian oriental',\n 'indian',\n 'asian oriental',\n 'indian',\n 'indian',\n 'european',\n 'swiss',\n 'european',\n 'italian',\n 'fusion',\n 'italian',\n 'gastropub',\n 'tuscan',\n 'thai',\n 'european',\n 'korean',\n 'chinese',\n 'modern european',\n 'portuguese',\n 'italian',\n 'european',\n 'international',\n 'chinese',\n 'international',\n 'modern european',\n 'traditional',\n 'mediterranean',\n 'chinese',\n 'indian',\n 'seafood',\n 'portuguese',\n 'indian',\n 'asian oriental',\n 'british',\n 'indian',\n 'chinese',\n 'indian',\n 'indian',\n 'asian oriental',\n 'polynesian',\n 'african',\n 'indian',\n 'chinese',\n 'thai',\n 'spanish',\n 'gastropub',\n 'spanish',\n 'gastropub',\n 'british',\n 'british',\n 'turkish',\n 'bistro',\n 'indian',\n 'british',\n 'north american',\n 'mediterranean',\n 'turkish',\n 'australasian',\n 'indian',\n 'persian',\n 'british',\n 'gastropub',\n 'british',\n 'italian',\n 'jamaican',\n 'indian',\n 'lebanese',\n 'indian',\n 'british',\n 'european',\n 'modern european',\n 'spanish',\n 'cuban',\n 'indian',\n 'japanese',\n 'italian',\n 'seafood',\n 'mediterranean',\n 'catalan',\n 'european',\n 'turkish',\n 'thai']"
     },
     "execution_count": 5,
     "metadata": {},
     "output_type": "execute_result"
    }
   ],
   "source": [
    "food_types = []\n",
    "for food_type in df['food']:\n",
    "    if food_types not in food_types:\n",
    "        food_types.append(food_type)\n",
    "food_types"
   ],
   "metadata": {
    "collapsed": false
   }
  },
  {
   "cell_type": "code",
   "execution_count": 7,
   "outputs": [
    {
     "data": {
      "text/plain": "['west', 'north', 'south', 'centre', 'east', nan]"
     },
     "execution_count": 7,
     "metadata": {},
     "output_type": "execute_result"
    }
   ],
   "source": [
    "locations = []\n",
    "for food_type in df['area']:\n",
    "    if food_type not in locations:\n",
    "        locations.append(food_type)\n",
    "locations"
   ],
   "metadata": {
    "collapsed": false
   }
  },
  {
   "cell_type": "code",
   "execution_count": 74,
   "outputs": [],
   "source": [
    "#lookup function to find restaurants fitting the criteria in the .csv file\n",
    "#attributes should be provided as string\n",
    "#@return is a numpy array\n",
    "def findRestaurants(area='X',price='X',food='X', path='restaurant_info.csv'):\n",
    "    restaurants = pd.read_csv(path)\n",
    "    if area != 'X':\n",
    "        restaurants = restaurants[restaurants['area'] == area]\n",
    "    if price != 'X':\n",
    "        restaurants = restaurants[restaurants['pricerange'] == price]\n",
    "    if food != 'X':\n",
    "        restaurants = restaurants[restaurants['food'] == food]\n",
    "    return restaurants.values\n"
   ],
   "metadata": {
    "collapsed": false
   }
  },
  {
   "cell_type": "code",
   "execution_count": 91,
   "outputs": [],
   "source": [
    "import random\n",
    "#function to randomly choose a restaurant\n",
    "#@parameters:\n",
    "#@restaurants: numpy array that contains restaurants from which one is choosen randomly\n",
    "#@alreadyUsedRestaurants: numpy array, sublist of restaurant with previously suggest restaurants\n",
    "#@return: a numpy array containing a restaurant from @restaurants | template: [name,area,pricerange,food,phone,addr,postcode]\n",
    "def chooseRestaurant(restaurants, alreadyUsedRestaurants):\n",
    "    if len(restaurants) == 0:\n",
    "        return None\n",
    "    if len(restaurants) == len(alreadyUsedRestaurants):\n",
    "        alreadyUsedRestraunts = []\n",
    "\n",
    "    restaurants = [i for i in restaurants if i[0] not in alreadyUsedRestraunts[:,0]]\n",
    "    return restaurants[random.randint(0,len(restaurants) -1)]"
   ],
   "metadata": {
    "collapsed": false
   }
  },
  {
   "cell_type": "code",
   "execution_count": 94,
   "outputs": [
    {
     "data": {
      "text/plain": "array(['rice boat', 'expensive', 'north', 'indian', '01223 302800',\n       '37 newnham road newnham', nan], dtype=object)"
     },
     "execution_count": 94,
     "metadata": {},
     "output_type": "execute_result"
    }
   ],
   "source": [
    "#state transistion function to change the state\n",
    "#\n",
    "def transition(currentState, utterance):\n"
   ],
   "metadata": {
    "collapsed": false
   }
  },
  {
   "cell_type": "code",
   "execution_count": 87,
   "outputs": [
    {
     "data": {
      "text/plain": "'saigon city'"
     },
     "execution_count": 87,
     "metadata": {},
     "output_type": "execute_result"
    }
   ],
   "source": [
    "type(more)\n",
    "more[1][0]"
   ],
   "metadata": {
    "collapsed": false
   }
  },
  {
   "cell_type": "code",
   "execution_count": 84,
   "outputs": [
    {
     "data": {
      "text/plain": "array([['restaurant alimentum', 'moderate', 'north', 'modern european',\n        '01223 413000', '152 - 154 hills road', 'c.b 2'],\n       ['saigon city', 'expensive', 'north', 'asian oriental',\n        '01223 356555', '169 high street chesterton chesterton', 'c.b 4'],\n       ['restaurant two two', 'expensive', 'north', 'french',\n        '01223 351880', '22 chesterton road chesterton', 'c.b 4'],\n       ['the hotpot', 'expensive', 'north', 'chinese', '01223 366552',\n        '66 chesterton road chesterton', 'c.b 4'],\n       ['golden wok', 'moderate', 'north', 'asian oriental',\n        '01223 350688', '191 histon road chesterton', 'c.b 4'],\n       ['meghna', 'moderate', 'north', 'indian', '01223 727410',\n        '205 victoria road chesterton', 'c.b 4'],\n       ['the nirala', 'moderate', 'north', 'indian', '01223 360966',\n        '7 milton road chesterton', 'c.b 4'],\n       ['city stop restaurant', 'expensive', 'north', 'tuscan',\n        '01223 363270',\n        'cambridge city football club milton road chesterton', nan],\n       ['bloomsbury restaurant', 'moderate', 'north', 'international',\n        '0871 942 9180', 'crowne plaza hotel 20 downing street', 'c.b 2'],\n       ['da vinci pizzeria', 'cheap', 'north', 'traditional',\n        '01223 351707', '20 milton road chesterton', 'c.b 4'],\n       ['royal spice', 'cheap', 'north', 'indian', '01733 553355',\n        'victoria avenue chesterton', 'c.b 4'],\n       ['tandoori palace', 'moderate', 'north', 'indian', '01223 506055',\n        '68 histon road chesterton', 'c.b 4'],\n       ['restaurant one seven', 'moderate', 'north', 'british',\n        '01223 337766',\n        'de vere university arms regent street city centre', nan],\n       ['hakka', 'cheap', 'north', 'persian', '01223 568988',\n        'milton road chesterton', 'c.b 4'],\n       ['rice boat', 'expensive', 'north', 'indian', '01223 302800',\n        '37 newnham road newnham', nan],\n       ['graffiti', 'moderate', 'north', 'indian', '01223 277977',\n        'hotel felix whitehouse lane huntingdon road', 'c.b 3']],\n      dtype=object)"
     },
     "execution_count": 84,
     "metadata": {},
     "output_type": "execute_result"
    }
   ],
   "source": [
    "more"
   ],
   "metadata": {
    "collapsed": false
   }
  },
  {
   "cell_type": "code",
   "execution_count": 88,
   "outputs": [
    {
     "data": {
      "text/plain": "array(['restaurant alimentum', 'golden wok', 'meghna', 'the nirala',\n       'bloomsbury restaurant', 'tandoori palace', 'restaurant one seven',\n       'graffiti'], dtype=object)"
     },
     "execution_count": 88,
     "metadata": {},
     "output_type": "execute_result"
    }
   ],
   "source": [
    "less[:,0]"
   ],
   "metadata": {
    "collapsed": false
   }
  },
  {
   "cell_type": "code",
   "execution_count": null,
   "outputs": [],
   "source": [],
   "metadata": {
    "collapsed": false,
    "pycharm": {
     "is_executing": true
    }
   }
  },
  {
   "cell_type": "code",
   "execution_count": 57,
   "outputs": [],
   "source": [],
   "metadata": {
    "collapsed": false
   }
  }
 ],
 "metadata": {
  "kernelspec": {
   "display_name": "Python 3",
   "language": "python",
   "name": "python3"
  },
  "language_info": {
   "codemirror_mode": {
    "name": "ipython",
    "version": 2
   },
   "file_extension": ".py",
   "mimetype": "text/x-python",
   "name": "python",
   "nbconvert_exporter": "python",
   "pygments_lexer": "ipython2",
   "version": "2.7.6"
  }
 },
 "nbformat": 4,
 "nbformat_minor": 0
}
